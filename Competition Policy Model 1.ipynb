{
 "cells": [
  {
   "cell_type": "markdown",
   "metadata": {},
   "source": [
    "# Competition Policy & Regulation - Assignment 1 - Fill in the following table \n",
    "\n",
    "For each student in your group give the name, SNR and email address. Recall that you can do the assignment on your own or in a group of at most three students.\n",
    "\n",
    "Fill in the [Markdown table](https://github.com/adam-p/markdown-here/wiki/Markdown-Cheatsheet#tables) below (with your real names etc.):\n",
    "\n",
    "|name|ANR|email|\n",
    "|----|---|-----|\n",
    "|1. adam smith|1776|smith@nations.com|\n",
    "|2. karl marx| 1886|marx@commu.ru|\n",
    "\n",
    "Once you are finished with the notebook, email it to Gabriel Halm ([g.j.g.halm@tilburguniversity.edu](mailto:g.j.g.halm@tilburguniversity.edu))."
   ]
  },
  {
   "cell_type": "markdown",
   "metadata": {},
   "source": [
    "# Set-up\n",
    "We consider an environment with two firms which compete in quantities (Cournot competition). Each firm $i$ produces a different good. Demand emanates from a representative consumer whose utility is given by: <br>\n",
    "$u = q_1 + q_2 - (q_1^2 +q_2^2 + 2\\gamma q_1q_2)/2 + m$, where $q_i$ is the quantity of product $i$, $\\gamma \\in [0,1)$ and $m$ stands for the income available for consuming other goods than the ones produced by firms $1$ and $2$.<br>\n",
    "Both firms face a constant unit cost of production, $c=0.1$.\n",
    "The goal of this exercise is to study the possibility for firms to collude in this environment."
   ]
  },
  {
   "cell_type": "code",
   "execution_count": 1,
   "metadata": {},
   "outputs": [],
   "source": [
    "# Import necessary libraries\n",
    "from scipy import optimize,arange\n",
    "from numpy import array,argmax\n",
    "import matplotlib.pyplot as plt\n",
    "%matplotlib inline"
   ]
  },
  {
   "cell_type": "markdown",
   "metadata": {},
   "source": [
    "### (a) For $\\gamma=1/2$, numerically find $q_1^*$, $q_2^*$ that maximize total surplus (first-best quantities) (Hint: You can compute the first-best quantities by solving for the Nash equilibrium between two social planners, one who chooses $q_1$ and another who chooses $q_2$.)\n"
   ]
  },
  {
   "cell_type": "code",
   "execution_count": 2,
   "metadata": {},
   "outputs": [],
   "source": [
    "def max_u(q1,q2,c,gamma):\n",
    "    return ((q1+q2-((q1**2+q2**2+2*gamma*q1*q2)/2))-(c*q1)-(c*q2))\n"
   ]
  },
  {
   "cell_type": "code",
   "execution_count": 3,
   "metadata": {},
   "outputs": [],
   "source": [
    "def q_star(q2,c,gamma):\n",
    "    q1 = optimize.brute(lambda q: -max_u(q,q2,c,gamma), ((0,1,),))                                                                 \n",
    "    return q1[0]\n",
    "\n",
    "\n",
    "def vector_q_star(q,param): # vector param = (c,gamma)\n",
    "    return array(q)-array([q_star(q[1],param[0],param[1]),q_star(q[0],param[0],param[1])])"
   ]
  },
  {
   "cell_type": "code",
   "execution_count": 4,
   "metadata": {},
   "outputs": [
    {
     "name": "stdout",
     "output_type": "stream",
     "text": [
      "[0.59998458 0.59998458]\n"
     ]
    }
   ],
   "source": [
    "param = [0.1,0.5]\n",
    "q0 = [0.1, 0.1]\n",
    "\n",
    "ans = optimize.fsolve(vector_q_star, q0, args = (param))\n",
    "print (ans)"
   ]
  },
  {
   "cell_type": "markdown",
   "metadata": {},
   "source": [
    "### (b) Plot $q_1^*$ as functions of $\\gamma$ for $\\gamma$ $\\in [0,1)$. Do $q_1^*$, $q_2^*$ increase, decrease or stay the same as $\\gamma$ increases? Why?"
   ]
  },
  {
   "cell_type": "code",
   "execution_count": 5,
   "metadata": {},
   "outputs": [
    {
     "name": "stderr",
     "output_type": "stream",
     "text": [
      "C:\\Users\\Josephine\\Anaconda3\\lib\\site-packages\\scipy\\optimize\\minpack.py:162: RuntimeWarning: The iteration is not making good progress, as measured by the \n",
      "  improvement from the last ten iterations.\n",
      "  warnings.warn(msg, RuntimeWarning)\n"
     ]
    }
   ],
   "source": [
    "range_gamma = arange(0,1,.01)\n",
    "\n",
    "q_stars = []\n",
    "for i in range_gamma:\n",
    "    param = [0.1,i]\n",
    "    q0 = [0.1, 0.1]\n",
    "    q_optimal= optimize.fsolve(vector_q_star, q0, args = (param))\n",
    "    q_stars.append(q_optimal[0])"
   ]
  },
  {
   "cell_type": "code",
   "execution_count": 6,
   "metadata": {},
   "outputs": [
    {
     "data": {
      "image/png": "[encoded data removed]",
      "text/plain": [
       "<Figure size 432x288 with 1 Axes>"
      ]
     },
     "metadata": {
      "needs_background": "light"
     },
     "output_type": "display_data"
    }
   ],
   "source": [
    "plt.clf()\n",
    "plt.plot(range_gamma, q_stars,'-', color = 'r', linewidth = 2)\n",
    "plt.title(\"Optimal $q^*$ when changing $\\gamma$\",fontsize = 15)\n",
    "plt.xlabel(\"$\\gamma$\",fontsize = 15)\n",
    "plt.ylabel(\"$q^*$\",fontsize = 15)\n",
    "plt.show()\n"
   ]
  },
  {
   "cell_type": "markdown",
   "metadata": {},
   "source": [
    "$\\gamma$ is measure of product subtitutability: the closer it gets to 1, the more substitutable are the products and the lower the utility for a given pair $(q_1,q_2)$. So, when $\\gamma$ increases, the planner optimally reduces the quantities produced."
   ]
  },
  {
   "cell_type": "markdown",
   "metadata": {},
   "source": [
    "### (c) Suppose 1 and 2 compete a la Cournot. Numerically solve for the Cournot equilibrium quantities: $q_1^c$, $q_2^c$. Is $q_1^c \\gtreqqless q_1^*$? Why?"
   ]
  },
  {
   "cell_type": "code",
   "execution_count": 7,
   "metadata": {},
   "outputs": [],
   "source": [
    "def demand(q1,q2,gamma):\n",
    "    return 1-q1-gamma*q2\n",
    "\n",
    "def cost(q,c):\n",
    "    if q == 0:\n",
    "     cost = 0\n",
    "    else:\n",
    "     cost = c*q\n",
    "    return cost\n",
    "\n",
    "def profit(q1,q2,c,gamma):\n",
    "    return demand(q1,q2,gamma)*q1-cost(q1,c)\n",
    "\n",
    "def reaction(q2,c,gamma):\n",
    "    q1 = optimize.brute(lambda q: -profit(q,q2,c,gamma), ((0,1,),))                                                         \n",
    "    return q1[0]\n",
    "\n",
    "def vector_reaction(q,param): # vector param = (c,gamma)\n",
    "    return array(q)-array([reaction(q[1],param[0],param[1]),reaction(q[0],param[0],param[1])])"
   ]
  },
  {
   "cell_type": "code",
   "execution_count": 8,
   "metadata": {},
   "outputs": [
    {
     "name": "stdout",
     "output_type": "stream",
     "text": [
      "[0.36000206 0.36000206]\n"
     ]
    }
   ],
   "source": [
    "param = [0.1,0.5]\n",
    "q0 = [0.1, 0.1]\n",
    "\n",
    "ans = optimize.fsolve(vector_reaction, q0, args = (param))\n",
    "print (ans)"
   ]
  },
  {
   "cell_type": "markdown",
   "metadata": {},
   "source": [
    "The Cournot quantities (0.36) are smaller than the first-best quantities (0.6) because firms have market power and do not internalize the gains to infra-marginal consumers when output goes up and prices down."
   ]
  },
  {
   "cell_type": "markdown",
   "metadata": {},
   "source": [
    "### (d)  For $\\gamma=0.5$, numerically find the quantities $q_1^m, q_2^m$ maximizing joint profits. Are they equal to, greater than, or smaller than the Cournot quantities? Why?"
   ]
  },
  {
   "cell_type": "code",
   "execution_count": 9,
   "metadata": {},
   "outputs": [],
   "source": [
    "def joint_profits(q1,q2,c,gamma):\n",
    "    profit1 = profit(q1,q2,c,gamma)\n",
    "    profit2 = profit(q2,q1,c,gamma)\n",
    "    return (profit1+profit2)\n"
   ]
  },
  {
   "cell_type": "code",
   "execution_count": 10,
   "metadata": {},
   "outputs": [],
   "source": [
    "def joint_profit_reaction(q2,c,gamma):\n",
    "    q1 = optimize.brute(lambda q: -joint_profits(q,q2,c,gamma), ((0,1,),)) \n",
    "    return q1[0]\n",
    "\n",
    "\n",
    "def vector_joint_profit_reaction(q,param): # vector param = (c,gamma)\n",
    "    return array(q)-array([joint_profit_reaction(q[1],param[0],param[1]),\n",
    "                           joint_profit_reaction(q[0],param[0],param[1])])"
   ]
  },
  {
   "cell_type": "code",
   "execution_count": 11,
   "metadata": {},
   "outputs": [
    {
     "name": "stdout",
     "output_type": "stream",
     "text": [
      "[0.3 0.3]\n"
     ]
    }
   ],
   "source": [
    "param = [0.1,0.5]\n",
    "q0 = [0.1, 0.1]\n",
    "\n",
    "ansjpm = optimize.fsolve(vector_joint_profit_reaction, q0, args = (param))\n",
    "print (ansjpm)"
   ]
  },
  {
   "cell_type": "markdown",
   "metadata": {},
   "source": [
    "A two-product monopolist would realize that an increase of $q_1$ that happens to be profitable for firm $1$ also reduces the price for firm $2$ (and conversely)."
   ]
  },
  {
   "cell_type": "markdown",
   "metadata": {},
   "source": [
    "### (e) Suppose that the game is infinitely repeated with discount rate $\\delta \\in (0,1)$ (firms strive to maximize total discounted profits). For $\\delta=2/3$,  is the outcome in (d) implementable as part of a subgame-perfect equilibrium? <br>In addition, plot static collusive profits, $\\pi_1^m$, as a function of $\\gamma \\in [0,1)$. Do not forget to account for the IC constraint. Collusive profits are defined as the joint-profit maximizing profits when the IC constraint is satisfied, and as Cournot profits otherwise. <br>Is collusion easier when $\\gamma$ is close to 0 or $\\gamma$ close to 1?"
   ]
  },
  {
   "cell_type": "code",
   "execution_count": 12,
   "metadata": {},
   "outputs": [
    {
     "name": "stdout",
     "output_type": "stream",
     "text": [
      "0.13499999999999998\n",
      "0.1333482554290433\n",
      "True\n"
     ]
    }
   ],
   "source": [
    "gamma=0.5\n",
    "c=0.1\n",
    "print (profit(ansjpm[0],ansjpm[1],c,gamma))\n",
    "print((1-0.66)*profit(reaction(ansjpm[1],c,gamma),ansjpm[0],c,gamma)+0.66*profit(ans[0],ans[1],c,gamma))\n",
    "print (profit(ansjpm[0],ansjpm[1],c,gamma) >= \n",
    "              ((1-0.66)*profit(reaction(ansjpm[1],c,gamma),ansjpm[0],c,gamma)+0.66*profit(ans[0],ans[1],c,gamma)))"
   ]
  },
  {
   "cell_type": "markdown",
   "metadata": {},
   "source": [
    "So, indeed, the joint profit-maximizing quantities can be sustained in subgame-perfect equilibrium."
   ]
  },
  {
   "cell_type": "code",
   "execution_count": 13,
   "metadata": {},
   "outputs": [],
   "source": [
    "def collusion_profits(q,c,gamma,delta): \n",
    "    profits = profit(q,q,c,gamma)\n",
    "    ans = optimize.fsolve(vector_reaction, q0, args = ([c,gamma]))\n",
    "    if profits >= (1-delta)*profit(reaction(q,c,gamma),q,c,gamma)+delta*profit(ans[0],ans[1],c,gamma):\n",
    "        industry_profits = joint_profits(q,q,c,gamma) \n",
    "    else:\n",
    "        industry_profits = 2*profit(ans[0],ans[1],c,gamma) \n",
    "    return industry_profits"
   ]
  },
  {
   "cell_type": "code",
   "execution_count": 14,
   "metadata": {},
   "outputs": [],
   "source": [
    "range_gamma = arange(0,1,0.05)\n",
    "range_q = arange(0,1,0.05)\n",
    "\n",
    "profits_m = []\n",
    "for i in range_gamma:\n",
    "    pi = [collusion_profits(j,0.1,i,0.66) for j in range_q]\n",
    "    profits_m.append(max(pi))\n",
    "    "
   ]
  },
  {
   "cell_type": "code",
   "execution_count": 15,
   "metadata": {},
   "outputs": [
    {
     "data": {
      "image/png": "[encoded data removed]",
      "text/plain": [
       "<Figure size 432x288 with 1 Axes>"
      ]
     },
     "metadata": {
      "needs_background": "light"
     },
     "output_type": "display_data"
    }
   ],
   "source": [
    "plt.clf()\n",
    " \n",
    "plt.plot(range_gamma, profits_m,'-', color = 'r', linewidth = 2)\n",
    "plt.title(\"Collusion profits\",fontsize = 15)\n",
    "plt.xlabel(\"$\\gamma$\",fontsize = 15)\n",
    "plt.ylabel(\"profits\",fontsize = 15)\n",
    "plt.xlim(0,1)\n",
    "plt.ylim(0.0,.75)\n",
    "plt.show()"
   ]
  },
  {
   "cell_type": "markdown",
   "metadata": {},
   "source": [
    "### (f) On the basis of the graph in  (e) , do you think that competition authorities should worry less about collusion in markets where products are more substitutable? "
   ]
  },
  {
   "cell_type": "markdown",
   "metadata": {},
   "source": [
    "NO! The fact that collusive profits go down simply correspond to the fact that utility goes down when products become\n",
    "more substitutable and therefore the  market shrinks, not that collusion is less sustainable."
   ]
  }
 ],
 "metadata": {
  "kernelspec": {
   "display_name": "Python 3",
   "language": "python",
   "name": "python3"
  },
  "language_info": {
   "codemirror_mode": {
    "name": "ipython",
    "version": 3
   },
   "file_extension": ".py",
   "mimetype": "text/x-python",
   "name": "python",
   "nbconvert_exporter": "python",
   "pygments_lexer": "ipython3",
   "version": "3.7.4"
  }
 },
 "nbformat": 4,
 "nbformat_minor": 2
}
